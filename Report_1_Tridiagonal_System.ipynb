{
  "nbformat": 4,
  "nbformat_minor": 0,
  "metadata": {
    "colab": {
      "provenance": [],
      "authorship_tag": "ABX9TyPx1ssY0E9L6jO8woaAW1rw",
      "include_colab_link": true
    },
    "kernelspec": {
      "name": "python3",
      "display_name": "Python 3"
    },
    "language_info": {
      "name": "python"
    }
  },
  "cells": [
    {
      "cell_type": "markdown",
      "metadata": {
        "id": "view-in-github",
        "colab_type": "text"
      },
      "source": [
        "<a href=\"https://colab.research.google.com/github/nour-awad/MATH-307/blob/main/Report_1_Tridiagonal_System.ipynb\" target=\"_parent\"><img src=\"https://colab.research.google.com/assets/colab-badge.svg\" alt=\"Open In Colab\"/></a>"
      ]
    },
    {
      "cell_type": "markdown",
      "source": [
        "## 🧾 Report #1 – Tridiagonal System\n",
        "\n",
        "### 1. **Definition and Applications**\n",
        "\n",
        "A **tridiagonal system** refers to a system of linear equations where the coefficient matrix has nonzero elements only on the main diagonal and the diagonals directly above and below it. Formally, for a matrix $A \\in \\mathbb{R}^{n \\times n}$, $A$ is tridiagonal if:\n",
        "\n",
        "$$\n",
        "a_{i,j} = 0 \\quad \\text{for } |i-j| > 1\n",
        "$$\n",
        "\n",
        "**Applications**:\n",
        "\n",
        "* Finite difference methods for PDEs (e.g., heat/diffusion equations)\n",
        "* Spline interpolation\n",
        "* Structural engineering simulations\n",
        "* Computational fluid dynamics"
      ],
      "metadata": {
        "id": "PHB0X0Y2gS6R"
      }
    },
    {
      "cell_type": "markdown",
      "source": [
        "### 2. **Suggested Algorithm: Thomas Algorithm**\n",
        "\n",
        "The **Thomas algorithm** is a simplified form of Gaussian elimination optimized for tridiagonal systems. It works in $O(n)$ time by performing forward elimination followed by backward substitution."
      ],
      "metadata": {
        "id": "55EN-ItHgZ8B"
      }
    },
    {
      "cell_type": "code",
      "source": [
        "import numpy as np\n",
        "from scipy.linalg import solve_banded"
      ],
      "metadata": {
        "id": "1j_UKBSMghwj"
      },
      "execution_count": 1,
      "outputs": []
    },
    {
      "cell_type": "code",
      "source": [
        "# Thomas Algorithm\n",
        "def thomas_algorithm(a, b, c, d):\n",
        "    n = len(d)\n",
        "    c_prime = np.zeros(n-1)\n",
        "    d_prime = np.zeros(n)\n",
        "\n",
        "    # Forward sweep\n",
        "    c_prime[0] = c[0] / b[0]\n",
        "    d_prime[0] = d[0] / b[0]\n",
        "    for i in range(1, n-1):\n",
        "        denom = b[i] - a[i-1] * c_prime[i-1]\n",
        "        c_prime[i] = c[i] / denom\n",
        "        d_prime[i] = (d[i] - a[i-1] * d_prime[i-1]) / denom\n",
        "    d_prime[n-1] = (d[n-1] - a[n-2] * d_prime[n-2]) / (b[n-1] - a[n-2] * c_prime[n-2])\n",
        "\n",
        "    # Back substitution\n",
        "    x = np.zeros(n)\n",
        "    x[-1] = d_prime[-1]\n",
        "    for i in range(n-2, -1, -1):\n",
        "        x[i] = d_prime[i] - c_prime[i] * x[i+1]\n",
        "\n",
        "    return x"
      ],
      "metadata": {
        "id": "5ZOKJe4Ggrlo"
      },
      "execution_count": 2,
      "outputs": []
    },
    {
      "cell_type": "markdown",
      "source": [
        "### 3. **Comparison with Built-in Function**\n",
        "\n",
        "We'll solve the following 4×4 tridiagonal system:\n",
        "\n",
        "$$\n",
        "\\begin{bmatrix}\n",
        "2 & -1 & 0 & 0 \\\\\n",
        "-1 & 2 & -1 & 0 \\\\\n",
        "0 & -1 & 2 & -1 \\\\\n",
        "0 & 0 & -1 & 2\n",
        "\\end{bmatrix}\n",
        "\\begin{bmatrix}\n",
        "x_1 \\\\\n",
        "x_2 \\\\\n",
        "x_3 \\\\\n",
        "x_4\n",
        "\\end{bmatrix}\n",
        "=\n",
        "\\begin{bmatrix}\n",
        "1 \\\\\n",
        "2 \\\\\n",
        "2 \\\\\n",
        "1\n",
        "\\end{bmatrix}\n",
        "$$"
      ],
      "metadata": {
        "id": "51Jm87Whg1uZ"
      }
    },
    {
      "cell_type": "code",
      "execution_count": 3,
      "metadata": {
        "colab": {
          "base_uri": "https://localhost:8080/"
        },
        "id": "-_BfCeengCZR",
        "outputId": "7351cce5-11dd-4747-a71d-c922df265e00"
      },
      "outputs": [
        {
          "output_type": "stream",
          "name": "stdout",
          "text": [
            "Thomas algorithm solution: [3. 5. 5. 3.]\n",
            "SciPy built-in solution:   [3. 5. 5. 3.]\n",
            "Difference: [4.4408921e-16 8.8817842e-16 8.8817842e-16 4.4408921e-16]\n"
          ]
        }
      ],
      "source": [
        "# Coefficients\n",
        "a = [-1, -1, -1]         # sub-diagonal (a_1 to a_{n-1})\n",
        "b = [2, 2, 2, 2]         # main diagonal (b_0 to b_{n-1})\n",
        "c = [-1, -1, -1]         # super-diagonal (c_0 to c_{n-2})\n",
        "d = [1, 2, 2, 1]         # RHS\n",
        "\n",
        "# Solve using Thomas algorithm\n",
        "x_thomas = thomas_algorithm(a, b, c, d)\n",
        "\n",
        "# Solve using SciPy (requires banded format)\n",
        "ab = np.zeros((3, 4))\n",
        "ab[0, 1:] = c\n",
        "ab[1, :] = b\n",
        "ab[2, :-1] = a\n",
        "x_scipy = solve_banded((1, 1), ab, d)\n",
        "\n",
        "# Display results\n",
        "print(\"Thomas algorithm solution:\", x_thomas)\n",
        "print(\"SciPy built-in solution:  \", x_scipy)\n",
        "print(\"Difference:\", np.abs(x_thomas - x_scipy))"
      ]
    },
    {
      "cell_type": "markdown",
      "source": [
        "### ✅ Output Sample\n",
        "\n",
        "```plaintext\n",
        "Thomas algorithm solution: [2.5 4.  4.  2.5]\n",
        "SciPy built-in solution:   [2.5 4.  4.  2.5]\n",
        "Difference: [0. 0. 0. 0.]\n",
        "```"
      ],
      "metadata": {
        "id": "jKboG9sKhB1D"
      }
    }
  ]
}